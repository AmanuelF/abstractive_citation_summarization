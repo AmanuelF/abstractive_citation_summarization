{
 "cells": [
  {
   "cell_type": "code",
   "execution_count": null,
   "metadata": {
    "colab": {
     "base_uri": "https://localhost:8080/"
    },
    "executionInfo": {
     "elapsed": 538,
     "status": "ok",
     "timestamp": 1637126508584,
     "user": {
      "displayName": "Amanuel Alambo",
      "photoUrl": "https://lh3.googleusercontent.com/a-/AOh14Gi1kA5oHs9X8VTfaoRu8wK35Yj33QD7CJkOZ6QBgQ=s64",
      "userId": "11985467428571358535"
     },
     "user_tz": 300
    },
    "id": "LS0BC5oErcAP",
    "outputId": "4a6318a1-b5a2-449f-c84b-db14d3761e63"
   },
   "outputs": [
    {
     "name": "stdout",
     "output_type": "stream",
     "text": [
      "Drive already mounted at /content/drive; to attempt to forcibly remount, call drive.mount(\"/content/drive\", force_remount=True).\n"
     ]
    }
   ],
   "source": [
    "from google.colab import drive\n",
    "drive.mount('/content/drive')"
   ]
  },
  {
   "cell_type": "code",
   "execution_count": null,
   "metadata": {
    "colab": {
     "base_uri": "https://localhost:8080/"
    },
    "executionInfo": {
     "elapsed": 269,
     "status": "ok",
     "timestamp": 1637126510563,
     "user": {
      "displayName": "Amanuel Alambo",
      "photoUrl": "https://lh3.googleusercontent.com/a-/AOh14Gi1kA5oHs9X8VTfaoRu8wK35Yj33QD7CJkOZ6QBgQ=s64",
      "userId": "11985467428571358535"
     },
     "user_tz": 300
    },
    "id": "sT8qQNCSreSW",
    "outputId": "4fe56b6a-34ad-4ab4-9d51-391a94d6716d"
   },
   "outputs": [
    {
     "name": "stdout",
     "output_type": "stream",
     "text": [
      "/content/drive/My Drive/Colab Notebooks/apex-codes/citation_sum\n"
     ]
    }
   ],
   "source": [
    "%cd drive/My\\ Drive/Colab\\ Notebooks/apex-codes/citation_sum"
   ]
  },
  {
   "cell_type": "code",
   "execution_count": null,
   "metadata": {
    "id": "sibEAV7zsR9i"
   },
   "outputs": [],
   "source": [
    "!pip3 install -q -U sentence-transformers"
   ]
  },
  {
   "cell_type": "code",
   "execution_count": null,
   "metadata": {
    "colab": {
     "base_uri": "https://localhost:8080/"
    },
    "executionInfo": {
     "elapsed": 1025,
     "status": "ok",
     "timestamp": 1637126518120,
     "user": {
      "displayName": "Amanuel Alambo",
      "photoUrl": "https://lh3.googleusercontent.com/a-/AOh14Gi1kA5oHs9X8VTfaoRu8wK35Yj33QD7CJkOZ6QBgQ=s64",
      "userId": "11985467428571358535"
     },
     "user_tz": 300
    },
    "id": "ZaDRjfTmey1o",
    "outputId": "3b1ef57b-0df0-4a92-c1d2-4073d0ea9eee"
   },
   "outputs": [
    {
     "name": "stdout",
     "output_type": "stream",
     "text": [
      "[nltk_data] Downloading package punkt to /root/nltk_data...\n",
      "[nltk_data]   Package punkt is already up-to-date!\n",
      "[nltk_data] Downloading package stopwords to /root/nltk_data...\n",
      "[nltk_data]   Package stopwords is already up-to-date!\n"
     ]
    },
    {
     "data": {
      "text/plain": [
       "True"
      ]
     },
     "execution_count": 4,
     "metadata": {},
     "output_type": "execute_result"
    }
   ],
   "source": [
    "import nltk\n",
    "nltk.download('punkt')  \n",
    "nltk.download('stopwords')"
   ]
  },
  {
   "cell_type": "code",
   "execution_count": null,
   "metadata": {
    "id": "5HJDMNeUL6T_"
   },
   "outputs": [],
   "source": [
    "from sklearn.cluster import DBSCAN\n",
    "import numpy as np\n",
    "import pandas as pd\n",
    "import os\n",
    "from sklearn.cluster import KMeans\n",
    "from sklearn import metrics\n",
    "from collections import defaultdict\n",
    "import json\n",
    "from pprint import pprint\n",
    "from sklearn.metrics import silhouette_score\n",
    "import json\n",
    "import warnings\n",
    "warnings.filterwarnings(\"ignore\")"
   ]
  },
  {
   "cell_type": "markdown",
   "metadata": {
    "id": "sqa3E7rZ4Ceo"
   },
   "source": [
    "### Load sentence BERT model"
   ]
  },
  {
   "cell_type": "code",
   "execution_count": null,
   "metadata": {
    "id": "3oYk78zk35Vw"
   },
   "outputs": [],
   "source": [
    "from sentence_transformers import SentenceTransformer\n",
    "model = SentenceTransformer('distilbert-base-nli-mean-tokens')"
   ]
  },
  {
   "cell_type": "markdown",
   "metadata": {
    "id": "PruEytVG4HIt"
   },
   "source": [
    "## Function to generate clusters of abstractive contexts corresponding to each cited id"
   ]
  },
  {
   "cell_type": "code",
   "execution_count": null,
   "metadata": {
    "id": "eQ5H7oUf3NDm"
   },
   "outputs": [],
   "source": [
    "def _generate_clusters_acc(abstractive_citation_contexts_lst, OUTPUT_PATH, cited_id_wo_txt, w_abstract=False):\n",
    "  # All citation contexts will be embedded here in one go---the size of 'abstractive_context_embeddings_np' is same as\n",
    "  # the number of abstractive citation contexts associated with a cited paper\n",
    "  abstractive_context_embeddings_np = model.encode(abstractive_citation_contexts_lst)\n",
    "\n",
    "  # Find the best value for k-number of clusters, iteratively\n",
    "  min_clusters = 2\n",
    "  max_clusters = len(abstractive_context_embeddings_np) - 1\n",
    "  max_calinski_score = 0.0    # we want to maximize the calinski harabasz score\n",
    "  max_silhouette_score = 0.0\n",
    "  \n",
    "  if max_clusters > min_clusters:\n",
    "    for k in range(min_clusters, max_clusters):\n",
    "      kmeans = KMeans(n_clusters=k, max_iter=10, init='random').fit(abstractive_context_embeddings_np)\n",
    "      labels = kmeans.labels_\n",
    "      silhouette_avg = silhouette_score(abstractive_context_embeddings_np, labels)\n",
    "      if silhouette_avg > max_silhouette_score:\n",
    "        max_silhouette_score = silhouette_avg\n",
    "        K_max = k\n",
    "  \n",
    "    # Run K-means with k that has given the best calinski score\n",
    "    kmeans = KMeans(n_clusters=K_max, max_iter=10, init='random').fit(abstractive_context_embeddings_np)\n",
    "    labels = kmeans.labels_\n",
    "\n",
    "    # Dump the abstractive contexts into their respective clusters after K-means has run and converged with the best 'K'\n",
    "    dict_cluster_abstractive_contexts = defaultdict(list)\n",
    "    for idx, cluster_id in enumerate(labels):\n",
    "      #dict_cluster_abstractive_contexts[str(cluster_id)].append(' '.join(abstractive_contexts_list[idx]))\n",
    "      dict_cluster_abstractive_contexts[str(cluster_id)].append(abstractive_citation_contexts_lst[idx])\n",
    "\n",
    "  # write the defaultdict to a json file to the file system\n",
    "  with open(f'{OUTPUT_PATH}/{cited_id_wo_txt}.json', 'w') as fp:\n",
    "    json.dump(dict_cluster_abstractive_contexts, fp, indent=4)\n",
    "  fp.close()\n"
   ]
  },
  {
   "cell_type": "code",
   "execution_count": null,
   "metadata": {
    "id": "zc-S55OoFcSt"
   },
   "outputs": [],
   "source": [
    "def main():\n",
    "  w_rp_abstract = False  # changes based on whether rp_abstract\n",
    "\n",
    "  if w_rp_abstract:\n",
    "    ABSTRACTIVE_CONTEXT_PATH = \"abstractive_citation_contexts_MAGSumm/ABSTRACTIVE_CITATION_CONTEXTS_FROM_CITATIONS_AND_RP_ABSTRACT\"\n",
    "    OUTPUT_PATH = f\"CLUSTERING_MAGSumm_Abstractive_Citation_Contexts/CLUSTERS_FROM_CITATIONS_AND_RP_ABSTRACT\"\n",
    "    os.makedirs(OUTPUT_PATH, exist_ok=True)\n",
    "\n",
    "  else:\n",
    "    ABSTRACTIVE_CONTEXT_PATH = \"abstractive_citation_contexts_MAGSumm/ABSTRACTIVE_CITATION_CONTEXTS_FROM_CITATIONS_ONLY\"\n",
    "    OUTPUT_PATH = f\"CLUSTERING_MAGSumm_Abstractive_Citation_Contexts/CLUSTERS_FROM_CITATIONS_ONLY\"\n",
    "    os.makedirs(OUTPUT_PATH, exist_ok=True)\n",
    "\n",
    "  for count, cited_id in enumerate(os.listdir(ABSTRACTIVE_CONTEXT_PATH)):\n",
    "    if count % 100 == 0:\n",
    "      print(\"Iteration: {}\".format(count))\n",
    "    with open(os.path.join(ABSTRACTIVE_CONTEXT_PATH, cited_id), 'r') as fp:\n",
    "      abstractive_citation_contexts_lst = list(set(fp.read().splitlines()))\n",
    "    fp.close()\n",
    "\n",
    "    cited_id_wo_txt = cited_id.replace('.txt', '')\n",
    "    # For each cited id, there is multiple clusters to be generated---so, a new directory for a cited is important\n",
    "\n",
    "    try:\n",
    "      _generate_clusters_acc(abstractive_citation_contexts_lst, OUTPUT_PATH, cited_id_wo_txt, w_abstract=False)\n",
    "    except:\n",
    "      continue"
   ]
  },
  {
   "cell_type": "code",
   "execution_count": null,
   "metadata": {
    "colab": {
     "base_uri": "https://localhost:8080/"
    },
    "id": "eGEG_LVqFcDc",
    "outputId": "2e94a62c-85d1-42f1-e3dd-a6293f4096b6"
   },
   "outputs": [
    {
     "metadata": {
      "tags": null
     },
     "name": "stdout",
     "output_type": "stream",
     "text": [
      "Iteration: 0\n"
     ]
    }
   ],
   "source": [
    "if __name__ == \"__main__\":\n",
    "  main()"
   ]
  },
  {
   "cell_type": "code",
   "execution_count": null,
   "metadata": {
    "id": "vAa_eEIPDYSO"
   },
   "outputs": [],
   "source": []
  }
 ],
 "metadata": {
  "accelerator": "GPU",
  "colab": {
   "collapsed_sections": [],
   "name": "Cluster_abstractive_contexts_MAGSumm.ipynb",
   "provenance": []
  },
  "kernelspec": {
   "display_name": "Python 3",
   "language": "python",
   "name": "python3"
  },
  "language_info": {
   "codemirror_mode": {
    "name": "ipython",
    "version": 3
   },
   "file_extension": ".py",
   "mimetype": "text/x-python",
   "name": "python",
   "nbconvert_exporter": "python",
   "pygments_lexer": "ipython3",
   "version": "3.6.7"
  }
 },
 "nbformat": 4,
 "nbformat_minor": 1
}
